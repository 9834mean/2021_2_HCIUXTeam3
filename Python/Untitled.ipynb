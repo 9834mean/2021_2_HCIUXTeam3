{
 "cells": [
  {
   "cell_type": "code",
   "execution_count": 25,
   "id": "a9835d19",
   "metadata": {},
   "outputs": [],
   "source": [
    "import pandas as pd\n",
    "import numpy as np\n",
    "import os"
   ]
  },
  {
   "cell_type": "markdown",
   "id": "8b93c6a4",
   "metadata": {},
   "source": [
    "# 데이터 불러오기\n",
    "실제 서비스에서는 사용자의 기록정보와 그날 하루 네이버 기사 뉴스를 csv로 가져와야 함 "
   ]
  },
  {
   "cell_type": "code",
   "execution_count": 76,
   "id": "81b8abb8",
   "metadata": {},
   "outputs": [
    {
     "data": {
      "text/html": [
       "<div>\n",
       "<style scoped>\n",
       "    .dataframe tbody tr th:only-of-type {\n",
       "        vertical-align: middle;\n",
       "    }\n",
       "\n",
       "    .dataframe tbody tr th {\n",
       "        vertical-align: top;\n",
       "    }\n",
       "\n",
       "    .dataframe thead th {\n",
       "        text-align: right;\n",
       "    }\n",
       "</style>\n",
       "<table border=\"1\" class=\"dataframe\">\n",
       "  <thead>\n",
       "    <tr style=\"text-align: right;\">\n",
       "      <th></th>\n",
       "      <th>0</th>\n",
       "    </tr>\n",
       "  </thead>\n",
       "  <tbody>\n",
       "    <tr>\n",
       "      <th>0</th>\n",
       "      <td>동남아 담당' 北 최희철 부상 베이징 도착…싱가포르행 주목\\t최 부상, 행선지·방문...</td>\n",
       "    </tr>\n",
       "    <tr>\n",
       "      <th>1</th>\n",
       "      <td>예결위, 추경 막바지 심사 진통…여야 충돌\\t(서울=연합뉴스) 김남권 기자 = 국회...</td>\n",
       "    </tr>\n",
       "    <tr>\n",
       "      <th>2</th>\n",
       "      <td>외압 논란·항명 사태…산 넘고 물 건넌 권성동 영장 청구\\t안미현 검사 외압 폭로 ...</td>\n",
       "    </tr>\n",
       "    <tr>\n",
       "      <th>3</th>\n",
       "      <td>친문 홍영표, 문빠에 찍혔다…특검 합의에 문자폭탄 공격\\t대표적인 친(親)문재인계인...</td>\n",
       "    </tr>\n",
       "    <tr>\n",
       "      <th>4</th>\n",
       "      <td>北, 연일 南비난…韓美정상회담 전 경고성 메시지 발신\\t南, 맥스선더·태영호 등 불...</td>\n",
       "    </tr>\n",
       "    <tr>\n",
       "      <th>...</th>\n",
       "      <td>...</td>\n",
       "    </tr>\n",
       "    <tr>\n",
       "      <th>195</th>\n",
       "      <td>경찰 \"드루킹 일당, 댓글 2만여개 매크로 조작 추가 확인\"(종합)\\t1월17∼18...</td>\n",
       "    </tr>\n",
       "    <tr>\n",
       "      <th>196</th>\n",
       "      <td>홍문표 “판문점 선언, 국민들 몰라”vs김어준 “인터넷에 다 있는데…”\\t[동아닷컴...</td>\n",
       "    </tr>\n",
       "    <tr>\n",
       "      <th>197</th>\n",
       "      <td>여야, 국회정상화 협상재개…특검 등 일괄타결 논의 전망\\t정 의장 '8일 오후 2시...</td>\n",
       "    </tr>\n",
       "    <tr>\n",
       "      <th>198</th>\n",
       "      <td>이완구, 단식 김성태 찾아 \"與, 정국 풀 명분 줘야\"\\t【서울=뉴시스】홍지은 기자...</td>\n",
       "    </tr>\n",
       "    <tr>\n",
       "      <th>199</th>\n",
       "      <td>민주-한국, 의석수 불과 3개 차이...재보궐선거 '빅뱅'\\t오는 6월 13일 지방...</td>\n",
       "    </tr>\n",
       "  </tbody>\n",
       "</table>\n",
       "<p>200 rows × 1 columns</p>\n",
       "</div>"
      ],
      "text/plain": [
       "                                                     0\n",
       "0    동남아 담당' 北 최희철 부상 베이징 도착…싱가포르행 주목\\t최 부상, 행선지·방문...\n",
       "1    예결위, 추경 막바지 심사 진통…여야 충돌\\t(서울=연합뉴스) 김남권 기자 = 국회...\n",
       "2    외압 논란·항명 사태…산 넘고 물 건넌 권성동 영장 청구\\t안미현 검사 외압 폭로 ...\n",
       "3    친문 홍영표, 문빠에 찍혔다…특검 합의에 문자폭탄 공격\\t대표적인 친(親)문재인계인...\n",
       "4    北, 연일 南비난…韓美정상회담 전 경고성 메시지 발신\\t南, 맥스선더·태영호 등 불...\n",
       "..                                                 ...\n",
       "195  경찰 \"드루킹 일당, 댓글 2만여개 매크로 조작 추가 확인\"(종합)\\t1월17∼18...\n",
       "196  홍문표 “판문점 선언, 국민들 몰라”vs김어준 “인터넷에 다 있는데…”\\t[동아닷컴...\n",
       "197  여야, 국회정상화 협상재개…특검 등 일괄타결 논의 전망\\t정 의장 '8일 오후 2시...\n",
       "198  이완구, 단식 김성태 찾아 \"與, 정국 풀 명분 줘야\"\\t【서울=뉴시스】홍지은 기자...\n",
       "199  민주-한국, 의석수 불과 3개 차이...재보궐선거 '빅뱅'\\t오는 6월 13일 지방...\n",
       "\n",
       "[200 rows x 1 columns]"
      ]
     },
     "execution_count": 76,
     "metadata": {},
     "output_type": "execute_result"
    }
   ],
   "source": [
    "path = \"./SampleData/SampleData/newsData/0/\"\n",
    "\n",
    "all_data = [] \n",
    "file_list = os.listdir(path)\n",
    "\n",
    "for file in file_list : \n",
    "    filepath = path + '/' + file \n",
    "    f = open(filepath, 'r', encoding='UTF8')\n",
    "    str = f.read()\n",
    "    all_data.append(str)\n",
    "    f.close()\n",
    "\n",
    "df_all = pd.DataFrame(all_data)\n",
    "df_all"
   ]
  }
 ],
 "metadata": {
  "kernelspec": {
   "display_name": "Python 3",
   "language": "python",
   "name": "python3"
  },
  "language_info": {
   "codemirror_mode": {
    "name": "ipython",
    "version": 3
   },
   "file_extension": ".py",
   "mimetype": "text/x-python",
   "name": "python",
   "nbconvert_exporter": "python",
   "pygments_lexer": "ipython3",
   "version": "3.8.8"
  }
 },
 "nbformat": 4,
 "nbformat_minor": 5
}
